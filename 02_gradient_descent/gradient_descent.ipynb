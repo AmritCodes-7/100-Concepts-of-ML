{
 "cells": [
  {
   "cell_type": "markdown",
   "id": "5e37757f",
   "metadata": {},
   "source": [
    "***Gradient Descent from Scratch***"
   ]
  },
  {
   "cell_type": "code",
   "execution_count": 1,
   "id": "689b0a47",
   "metadata": {},
   "outputs": [],
   "source": [
    "from sklearn.datasets import make_regression\n",
    "import matplotlib.pyplot as plt \n",
    "import numpy as np\n",
    "from sklearn.model_selection import cross_val_score"
   ]
  },
  {
   "cell_type": "code",
   "execution_count": 2,
   "id": "96fa7b31",
   "metadata": {},
   "outputs": [],
   "source": [
    "X, y = make_regression(\n",
    "    n_samples=150,\n",
    "    n_features=1,\n",
    "    n_targets=1,\n",
    "    noise=25,\n",
    "    random_state=20,\n",
    ")"
   ]
  },
  {
   "cell_type": "code",
   "execution_count": 3,
   "id": "47b3ee58",
   "metadata": {},
   "outputs": [
    {
     "data": {
      "text/plain": [
       "<matplotlib.collections.PathCollection at 0x1a6046ff4d0>"
      ]
     },
     "execution_count": 3,
     "metadata": {},
     "output_type": "execute_result"
    },
    {
     "data": {
      "image/png": "[encoded data removed]",
      "text/plain": [
       "<Figure size 640x480 with 1 Axes>"
      ]
     },
     "metadata": {},
     "output_type": "display_data"
    }
   ],
   "source": [
    "plt.scatter(X, y)"
   ]
  },
  {
   "cell_type": "code",
   "execution_count": 4,
   "id": "f0ad0636",
   "metadata": {},
   "outputs": [],
   "source": [
    "from sklearn.model_selection import train_test_split"
   ]
  },
  {
   "cell_type": "code",
   "execution_count": 5,
   "id": "21576803",
   "metadata": {},
   "outputs": [],
   "source": [
    "X_train, X_test, y_train, y_test = train_test_split(X, y, test_size=0.2, random_state= 20)"
   ]
  },
  {
   "cell_type": "code",
   "execution_count": 6,
   "id": "05b07aba",
   "metadata": {},
   "outputs": [],
   "source": [
    "from sklearn.linear_model import LinearRegression"
   ]
  },
  {
   "cell_type": "code",
   "execution_count": 7,
   "id": "bebe377a",
   "metadata": {},
   "outputs": [],
   "source": [
    "linear_regression = LinearRegression()"
   ]
  },
  {
   "cell_type": "code",
   "execution_count": 8,
   "id": "620f85fe",
   "metadata": {},
   "outputs": [
    {
     "name": "stdout",
     "output_type": "stream",
     "text": [
      "[45.26976471] -1.3962047280593406\n"
     ]
    }
   ],
   "source": [
    "linear_regression.fit(X_train,y_train)\n",
    "print(f\"{linear_regression.coef_} {linear_regression.intercept_}\")"
   ]
  },
  {
   "cell_type": "code",
   "execution_count": 9,
   "id": "1951347c",
   "metadata": {},
   "outputs": [
    {
     "data": {
      "text/plain": [
       "np.float64(0.7834813836176688)"
      ]
     },
     "execution_count": 9,
     "metadata": {},
     "output_type": "execute_result"
    }
   ],
   "source": [
    "np.mean(cross_val_score(linear_regression, X_train, y_train, scoring=\"r2\", cv=10))"
   ]
  },
  {
   "cell_type": "markdown",
   "id": "0941a6f8",
   "metadata": {},
   "source": [
    "# Creating gradient descent to get the best value"
   ]
  },
  {
   "cell_type": "code",
   "execution_count": 10,
   "id": "6da28a14",
   "metadata": {},
   "outputs": [],
   "source": [
    "class GradientDescent:\n",
    "\n",
    "    def __init__(self, learning_rate, epochs):\n",
    "        self.m = 100\n",
    "        self.b = 23\n",
    "        self.learning_rate = learning_rate\n",
    "        self.epochs = epochs\n",
    "\n",
    "    def fit(self, X, y):\n",
    "        for _ in range(self.epochs):\n",
    "            self.b = self.b - self.learning_rate * (\n",
    "                -2 * np.sum(y - self.m * X.ravel() - self.b)\n",
    "            )\n",
    "            self.m = self.m - self.learning_rate * (\n",
    "                -2 * np.sum((y - self.m * X.ravel() - self.b) * X.ravel())\n",
    "            )\n",
    "        print(self.m)\n",
    "        print(self.b)\n",
    "\n",
    "    def predict(self, X):\n",
    "        return self.m * X + self.b"
   ]
  },
  {
   "cell_type": "code",
   "execution_count": 11,
   "id": "0cd9787a",
   "metadata": {},
   "outputs": [],
   "source": [
    "gd = GradientDescent(0.001, 100)"
   ]
  },
  {
   "cell_type": "code",
   "execution_count": 12,
   "id": "983809c4",
   "metadata": {},
   "outputs": [
    {
     "name": "stdout",
     "output_type": "stream",
     "text": [
      "45.26976470634375\n",
      "-1.3962047280002092\n"
     ]
    }
   ],
   "source": [
    "gd.fit(X_train, y_train)"
   ]
  },
  {
   "cell_type": "markdown",
   "id": "a1198ac2",
   "metadata": {},
   "source": [
    "*lol! :) almost same*"
   ]
  },
  {
   "cell_type": "code",
   "execution_count": 14,
   "id": "56317c52",
   "metadata": {},
   "outputs": [],
   "source": [
    "y_pred = gd.predict(X_test)"
   ]
  },
  {
   "cell_type": "code",
   "execution_count": 15,
   "id": "9405af3a",
   "metadata": {},
   "outputs": [
    {
     "data": {
      "text/plain": [
       "0.7519320361656965"
      ]
     },
     "execution_count": 15,
     "metadata": {},
     "output_type": "execute_result"
    }
   ],
   "source": [
    "from sklearn.metrics import r2_score\n",
    "r2_score(y_test, y_pred)"
   ]
  }
 ],
 "metadata": {
  "kernelspec": {
   "display_name": "myenv",
   "language": "python",
   "name": "python3"
  },
  "language_info": {
   "codemirror_mode": {
    "name": "ipython",
    "version": 3
   },
   "file_extension": ".py",
   "mimetype": "text/x-python",
   "name": "python",
   "nbconvert_exporter": "python",
   "pygments_lexer": "ipython3",
   "version": "3.13.0"
  }
 },
 "nbformat": 4,
 "nbformat_minor": 5
}
