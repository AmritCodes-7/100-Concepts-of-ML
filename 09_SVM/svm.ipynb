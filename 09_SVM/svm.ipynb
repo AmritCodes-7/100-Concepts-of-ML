{
 "cells": [
  {
   "cell_type": "code",
   "execution_count": null,
   "id": "a6d83c5e",
   "metadata": {},
   "outputs": [],
   "source": [
    "import numpy as np\n",
    "import matplotlib.pyplot as plt\n",
    "from sklearn.datasets import make_blobs"
   ]
  },
  {
   "cell_type": "code",
   "execution_count": null,
   "id": "80d8600a",
   "metadata": {},
   "outputs": [],
   "source": [
    "X, y = make_blobs(n_samples=200, centers=2, cluster_std=1.5, random_state=50)\n",
    "X.shape, y.shape, X[:5], y[:5]"
   ]
  },
  {
   "cell_type": "code",
   "execution_count": null,
   "id": "090d01ef",
   "metadata": {},
   "outputs": [],
   "source": [
    "y = y * 2.0 - 1\n",
    "y[:5]"
   ]
  },
  {
   "cell_type": "code",
   "execution_count": null,
   "id": "bb09c8e4",
   "metadata": {},
   "outputs": [],
   "source": [
    "plt.scatter(X[:, 0], X[:, 1], c=y, s=30, cmap='viridis')\n",
    "plt.title(\"Clusters with cluster_std = 1.5\")\n",
    "plt.show()"
   ]
  },
  {
   "cell_type": "code",
   "execution_count": null,
   "id": "fc1d3b99",
   "metadata": {},
   "outputs": [],
   "source": [
    "np.random.seed(65)\n",
    "w = np.random.rand(\n",
    "    2,\n",
    ")  # Creates array of 2 random floats between [0, 1)\n",
    "b = np.random.rand()  # Creates single random float between [0, 1)\n",
    "w, b"
   ]
  },
  {
   "cell_type": "code",
   "execution_count": null,
   "id": "663fbce6",
   "metadata": {},
   "outputs": [],
   "source": [
    "def predict(X, w, b):\n",
    "    m = X.shape[0]\n",
    "    y_preds = np.zeros(m)\n",
    "    y_preds = np.sign(np.dot(X, w) + b)\n",
    "    return y_preds"
   ]
  },
  {
   "cell_type": "code",
   "execution_count": null,
   "id": "81d715ce",
   "metadata": {},
   "outputs": [],
   "source": [
    "# prediction with the initial w and b\n",
    "predict(X[:5], w, b)"
   ]
  },
  {
   "cell_type": "code",
   "execution_count": null,
   "id": "5ba43fde",
   "metadata": {},
   "outputs": [],
   "source": [
    "def plot_true_vs_preds(X, y, w, b):\n",
    "    \"\"\"\n",
    "    Plots:\n",
    "    1. True labels vs. predicted labels\n",
    "    2. Decision boundary (w·x + b = 0)\n",
    "    3. Margin boundaries (w·x + b = ±1)\n",
    "\n",
    "    Args:\n",
    "        X (np.ndarray): Input features (n_samples, 2)\n",
    "        y (np.ndarray): True labels (n_samples,)\n",
    "        w (np.ndarray): Weight vector (2,)\n",
    "        b (float): Bias term\n",
    "    \"\"\"\n",
    "\n",
    "    # limit the plot horizontally and vertically\n",
    "    xlim = np.array([X[:, 0].min() - 1, X[:, 0].max() + 1])\n",
    "    ylim = np.array([X[:, 1].min() - 1, X[:, 1].max() + 1])\n",
    "\n",
    "    # y true plot\n",
    "    plt.figure(figsize=(7, 7))\n",
    "    plt.title(\"True plots\")\n",
    "    plt.scatter(X[:, 0], X[:, 1], c=y)\n",
    "    plt.xlim(xlim)\n",
    "    plt.ylim(ylim)\n",
    "\n",
    "    # Predicted Plots\n",
    "    plt.figure(figsize=(7, 7))\n",
    "    plt.title(\"Predicted plots\")\n",
    "    y_preds = predict(X, w, b)\n",
    "    plt.scatter(X[:, 0], X[:, 1], c=y_preds)\n",
    "    plt.xlim(xlim)\n",
    "    plt.ylim(ylim)\n",
    "\n",
    "    # decision boundary & margin\n",
    "    # Decision boundary: w0*x + w1*y + b = 0 => y = (-w0*x - b)/w1\n",
    "    xx = xlim\n",
    "    decision_boundary = (-b - (w[0] * xx)) / w[1]\n",
    "    \n",
    "    # Margin boundaries: w0*x + w1*y + b = ±1\n",
    "    upper_margin = (1 - b - (w[0] * xx)) / w[1]\n",
    "    lower_margin = (-1 - b - (w[0] * xx)) / w[1]\n",
    "\n",
    "    plt.plot(xx, upper_margin, color=\"red\", linestyle=\"dotted\")\n",
    "    plt.plot(xx, decision_boundary, color=\"black\")\n",
    "    plt.plot(xx, lower_margin, color=\"blue\", linestyle=\"dotted\")"
   ]
  },
  {
   "cell_type": "code",
   "execution_count": null,
   "id": "e8af8af3",
   "metadata": {},
   "outputs": [],
   "source": [
    "plot_true_vs_preds(X, y, w, b)"
   ]
  },
  {
   "cell_type": "markdown",
   "id": "0a2366f0",
   "metadata": {},
   "source": [
    "*Hinge Loss*"
   ]
  },
  {
   "cell_type": "code",
   "execution_count": null,
   "id": "9435c07b",
   "metadata": {},
   "outputs": [],
   "source": [
    "def hinge_loss(X_i, y_i, w, b):\n",
    "    return max(0, 1 - y_i * (np.dot(X_i, w) + b))"
   ]
  },
  {
   "cell_type": "code",
   "execution_count": null,
   "id": "f687f0d5",
   "metadata": {},
   "outputs": [],
   "source": [
    "n_samples = 50\n",
    "t = np.zeros(n_samples)\n",
    "loss = np.zeros(n_samples)\n",
    "\n",
    "for i in range(n_samples):\n",
    "    t[i] = y[i] * (np.dot(X[i], w) + b)\n",
    "    loss[i] = hinge_loss(X[i], y[i], w, b)\n",
    "\n",
    "plt.figure(figsize=(8,8))\n",
    "plt.scatter(t, loss)"
   ]
  },
  {
   "cell_type": "code",
   "execution_count": null,
   "id": "e894ce6e",
   "metadata": {},
   "outputs": [],
   "source": [
    "def cost(X, y, w, b, c=1):\n",
    "    m = X.shape[0]\n",
    "\n",
    "    margin_cost = (np.dot(w, w) ** 2) / 2\n",
    "    hinge_cost = 0\n",
    "\n",
    "    for i in range(m):\n",
    "        loss = hinge_loss(X[i], y[i], w, b)\n",
    "        hinge_cost += loss\n",
    "    hinge_cost *= c\n",
    "\n",
    "    return hinge_cost + margin_cost"
   ]
  },
  {
   "cell_type": "code",
   "execution_count": null,
   "id": "0933ed93",
   "metadata": {},
   "outputs": [],
   "source": [
    "cost(X, y, w, b) "
   ]
  },
  {
   "cell_type": "code",
   "execution_count": null,
   "id": "1885b52c",
   "metadata": {},
   "outputs": [],
   "source": [
    "X.shape"
   ]
  },
  {
   "cell_type": "code",
   "execution_count": null,
   "id": "f1b856ce",
   "metadata": {},
   "outputs": [],
   "source": [
    "def gradient(X, y, w, b, c=1):\n",
    "    n = X.shape[1]\n",
    "    m = X.shape[0]\n",
    "\n",
    "    dj_dw = np.zeros(n)\n",
    "    dj_db = 0\n",
    "\n",
    "    for i in range(m):\n",
    "        hinge_condition = (1 - y[i] * (np.dot(w, X[i]) + b)) > 0\n",
    "        if hinge_condition:\n",
    "            dj_dw -= (c * y[i] * X[i])\n",
    "            dj_db += -c * y[i]\n",
    "  \n",
    "    dj_dw += w\n",
    "\n",
    "    return dj_dw, dj_db"
   ]
  },
  {
   "cell_type": "code",
   "execution_count": null,
   "id": "066bfb69",
   "metadata": {},
   "outputs": [],
   "source": [
    "dj_dw, dj_db = gradient(X, y, w, b)\n",
    "dj_dw, dj_db"
   ]
  },
  {
   "cell_type": "code",
   "execution_count": null,
   "id": "1ba7b318",
   "metadata": {},
   "outputs": [],
   "source": [
    "lr = 0.001\n",
    "w_new = w - lr * dj_dw\n",
    "b_new = b - lr * dj_db\n",
    "\n",
    "print(f\"Before:{cost(X, y, w, b)}\")\n",
    "print(f\"After:{cost(X, y, w_new, b_new)}\")"
   ]
  },
  {
   "cell_type": "code",
   "execution_count": null,
   "id": "2bebe169",
   "metadata": {},
   "outputs": [],
   "source": [
    "plot_true_vs_preds(X, y, w_new, b_new)"
   ]
  },
  {
   "cell_type": "code",
   "execution_count": null,
   "id": "73d2bee5",
   "metadata": {},
   "outputs": [],
   "source": [
    "def gradient_descent(X, y, w, b, n_iters=1000, lr=0.001, c=1):\n",
    "\n",
    "    for i in range(n_iters):\n",
    "        dj_dw, dj_db = gradient(X, y, w, b, c)\n",
    "        w = w - lr * dj_dw\n",
    "        b = b - lr * dj_db\n",
    "\n",
    "        if i % 100 == 0:\n",
    "            print(f\"Iter\\t{i}\\tcost\\t{cost(X, y, w, b)}\")\n",
    "\n",
    "    return w, b"
   ]
  },
  {
   "cell_type": "code",
   "execution_count": null,
   "id": "31ed7803",
   "metadata": {},
   "outputs": [],
   "source": [
    "w_new, b_new = gradient_descent(X, y, w, b)"
   ]
  },
  {
   "cell_type": "code",
   "execution_count": null,
   "id": "5c1752be",
   "metadata": {},
   "outputs": [],
   "source": [
    "plot_true_vs_preds(X, y, w_new, b_new)"
   ]
  }
 ],
 "metadata": {
  "kernelspec": {
   "display_name": "myenv",
   "language": "python",
   "name": "python3"
  },
  "language_info": {
   "codemirror_mode": {
    "name": "ipython",
    "version": 3
   },
   "file_extension": ".py",
   "mimetype": "text/x-python",
   "name": "python",
   "nbconvert_exporter": "python",
   "pygments_lexer": "ipython3",
   "version": "3.13.3"
  }
 },
 "nbformat": 4,
 "nbformat_minor": 5
}
