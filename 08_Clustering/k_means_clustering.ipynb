{
 "cells": [
  {
   "cell_type": "markdown",
   "id": "b35e6c53",
   "metadata": {},
   "source": [
    "# **K-Means Clustering: Grouping of data according to the centroids**"
   ]
  },
  {
   "cell_type": "code",
   "execution_count": null,
   "id": "be19b6f0",
   "metadata": {},
   "outputs": [],
   "source": [
    "# import all the required libraries\n",
    "import numpy as np\n",
    "import matplotlib.pyplot as plt\n",
    "from sklearn.datasets import make_blobs\n",
    "from scipy.linalg import norm"
   ]
  },
  {
   "cell_type": "code",
   "execution_count": null,
   "id": "8df8a0b5",
   "metadata": {},
   "outputs": [],
   "source": [
    "# constants\n",
    "RANDOM_SEED = 150\n",
    "N_SAMPLES = 1000\n",
    "N_FEATURES = 2\n",
    "N_CENTERS = 4"
   ]
  },
  {
   "cell_type": "code",
   "execution_count": null,
   "id": "e5b43fe5",
   "metadata": {},
   "outputs": [],
   "source": [
    "X, y = make_blobs(\n",
    "    n_features=N_FEATURES,\n",
    "    n_samples=N_SAMPLES,\n",
    "    centers=N_CENTERS,\n",
    "    random_state=RANDOM_SEED,\n",
    ")"
   ]
  },
  {
   "cell_type": "code",
   "execution_count": null,
   "id": "b26d7ddc",
   "metadata": {},
   "outputs": [],
   "source": [
    "print(X.shape, y.shape)"
   ]
  },
  {
   "cell_type": "code",
   "execution_count": null,
   "id": "9cd5923c",
   "metadata": {},
   "outputs": [],
   "source": [
    "print(X[:5], y[:5])"
   ]
  },
  {
   "cell_type": "code",
   "execution_count": null,
   "id": "306c2fd3",
   "metadata": {},
   "outputs": [],
   "source": [
    "# plot the data\n",
    "def plot_clusters(X, labels, k):\n",
    "    colors = [\"r\", \"g\", \"y\", \"m\"]\n",
    "    plt.figure(figsize=(8, 8))\n",
    "    for i in range(k):\n",
    "        i_label = X[labels == i]  # get all points whose label equals i\n",
    "        plt.scatter(i_label[:, 0], i_label[:, 1], color=colors[i], marker=\".\")"
   ]
  },
  {
   "cell_type": "markdown",
   "id": "41c31ba4",
   "metadata": {},
   "source": [
    "Example:\n",
    "\n",
    "Step 1: labels == 0 → [True, False, True, False, True]\n",
    "\n",
    "Step 2: X[[True, False, True, False, True]] → Returns rows 0, 2, and 4"
   ]
  },
  {
   "cell_type": "code",
   "execution_count": null,
   "id": "827190a5",
   "metadata": {},
   "outputs": [],
   "source": [
    "plot_clusters(X, y, N_CENTERS)"
   ]
  },
  {
   "cell_type": "markdown",
   "id": "21929461",
   "metadata": {},
   "source": [
    "**_Steps in K-means<br>_**\n",
    "_1. Initialize centroids randomly.<br>_\n",
    "_2. Assign datapoints to closest centroid.<br>_\n",
    "_3. Update centroid positios.<br>_\n",
    "_4. Repeat 2 & 3 until convergence.<br>_\n"
   ]
  },
  {
   "cell_type": "markdown",
   "id": "c3d8ab5c",
   "metadata": {},
   "source": [
    "*Step-1*"
   ]
  },
  {
   "cell_type": "code",
   "execution_count": null,
   "id": "27904559",
   "metadata": {},
   "outputs": [],
   "source": [
    "centroid_idxs = np.random.choice(range(N_SAMPLES), size=N_CENTERS, replace=False)\n",
    "print(f\"Indices of center: {centroid_idxs}\")\n",
    "initial_centers = X[centroid_idxs]\n",
    "print(f\"Centers:{initial_centers}\")"
   ]
  },
  {
   "cell_type": "code",
   "execution_count": null,
   "id": "a65633a7",
   "metadata": {},
   "outputs": [],
   "source": [
    "print(f\"{X[centroid_idxs]}\")"
   ]
  },
  {
   "cell_type": "code",
   "execution_count": null,
   "id": "a33c5b83",
   "metadata": {},
   "outputs": [],
   "source": [
    "def plot_clusters_with_centers(X, labels, centers, k):\n",
    "    colors = [\"r\", \"g\", \"y\", \"m\"]\n",
    "    plt.figure(figsize=(8, 8))\n",
    "    for i in range(k):\n",
    "        cluster_points = X[labels == i]  # get all points whose label equals i\n",
    "        plt.scatter(cluster_points[:, 0], cluster_points[:, 1], color=colors[i], marker=\".\", alpha= 0.4)\n",
    "    plt.scatter(centers[:, 0], centers[:, 1], color=\"black\", marker=\"x\", s=100) "
   ]
  },
  {
   "cell_type": "code",
   "execution_count": null,
   "id": "80f53c24",
   "metadata": {},
   "outputs": [],
   "source": [
    "plot_clusters_with_centers(X, y, initial_centers, N_CENTERS)"
   ]
  },
  {
   "cell_type": "markdown",
   "id": "0d674484",
   "metadata": {},
   "source": [
    "*Step-2*"
   ]
  },
  {
   "cell_type": "code",
   "execution_count": null,
   "id": "73e95114",
   "metadata": {},
   "outputs": [],
   "source": [
    "distances = np.empty(shape=(N_SAMPLES, N_CENTERS))\n",
    "for i, centroid in enumerate(initial_centers):\n",
    "    distance = np.array(norm(X - centroid, axis=1)) # dimension of distance is 1000*1\n",
    "    distances[:, i] = distance"
   ]
  },
  {
   "cell_type": "markdown",
   "id": "ffcf089e",
   "metadata": {},
   "source": [
    "*X - centroid:<br>Subtracts the current centroid from all data points (via broadcasting)*\n",
    "\n",
    "    X = np.array([[1,2], [3,4]])\n",
    "    centroid = np.array([1,2])\n",
    "    X - centroid → array([[0,0], [2,2]])\n",
    "\n",
    "*norm(..., axis=1):<br>Computes Euclidean distance for each point to the centroid<br>Formula: √(Δx² + Δy²)*\n",
    "\n",
    "    norm([[0,0], [2,2]], axis=1) → array([0., 2.828])"
   ]
  },
  {
   "cell_type": "markdown",
   "id": "d1e0a3c9",
   "metadata": {},
   "source": [
    "*In each iteration of the loop, the code calculates the distances from all data points to one specific centroid, and stores these distances in a single column of the distances matrix.*"
   ]
  },
  {
   "cell_type": "code",
   "execution_count": null,
   "id": "ddb6721b",
   "metadata": {},
   "outputs": [],
   "source": [
    "distances[:5]"
   ]
  },
  {
   "cell_type": "code",
   "execution_count": null,
   "id": "6adce81b",
   "metadata": {},
   "outputs": [],
   "source": [
    "from sklearn.preprocessing import StandardScaler\n",
    "scaler = StandardScaler()\n",
    "X_scaled = scaler.fit_transform(X)"
   ]
  },
  {
   "cell_type": "code",
   "execution_count": null,
   "id": "b57518f5",
   "metadata": {},
   "outputs": [],
   "source": [
    "X_scaled[:5]"
   ]
  },
  {
   "cell_type": "code",
   "execution_count": null,
   "id": "e5336152",
   "metadata": {},
   "outputs": [],
   "source": [
    "centroids = X_scaled[centroid_idxs]\n",
    "centroids"
   ]
  },
  {
   "cell_type": "code",
   "execution_count": null,
   "id": "88310d9d",
   "metadata": {},
   "outputs": [],
   "source": [
    "# Finding the closest centroid for each point\n",
    "for i, point in enumerate(X_scaled):\n",
    "    distances = [norm(point - centroid) for centroid in centroids]\n",
    "    print(distances)\n",
    "    print(\n",
    "        np.argmin(distances)\n",
    "    )  # returns the minimum value's index along the specified axis\n",
    "    print(centroids[np.argmin(distances), :])\n",
    "    \n",
    "    if i==3:\n",
    "        break"
   ]
  },
  {
   "cell_type": "code",
   "execution_count": null,
   "id": "b81f0073",
   "metadata": {},
   "outputs": [],
   "source": [
    "def assign_cluster(X, centroids):\n",
    "    n_samples = X.shape[0]  # or simple N_SAMPLES\n",
    "    k = len(centroids)\n",
    "    distances = np.empty(shape=(n_samples, k))\n",
    "    for i, centroid in enumerate(centroids):\n",
    "        distances[:, i] = np.array(norm(X - centroid, axis=1))\n",
    "    # closest_centroid = np.argmin(distances, axis=1)\n",
    "    return np.argmin(distances, axis=1)"
   ]
  },
  {
   "cell_type": "code",
   "execution_count": null,
   "id": "f5cacccb",
   "metadata": {},
   "outputs": [],
   "source": [
    "centroid_for_data = assign_cluster(X_scaled, centroids)"
   ]
  },
  {
   "cell_type": "markdown",
   "id": "7a93cd29",
   "metadata": {},
   "source": [
    "*Step 3*"
   ]
  },
  {
   "cell_type": "code",
   "execution_count": null,
   "id": "cfad184f",
   "metadata": {},
   "outputs": [],
   "source": [
    "# update centroids\n",
    "new_centroids = []\n",
    "for i in range(N_CENTERS):\n",
    "    cluster_data = X_scaled[centroid_for_data == i]\n",
    "    new_centroids.append(np.mean(cluster_data, axis=0))"
   ]
  },
  {
   "cell_type": "code",
   "execution_count": null,
   "id": "7c8953f9",
   "metadata": {},
   "outputs": [],
   "source": [
    "centroids, new_centroids"
   ]
  },
  {
   "cell_type": "markdown",
   "id": "252b5ed9",
   "metadata": {},
   "source": [
    "*Step 4*"
   ]
  },
  {
   "cell_type": "code",
   "execution_count": null,
   "id": "26e082f9",
   "metadata": {},
   "outputs": [],
   "source": [
    "class KMeans:\n",
    "    def __init__(self, k, tolerance, max_iters):\n",
    "        self.k = k\n",
    "        self.toleracne = tolerance\n",
    "        self.max_iters = max_iters\n",
    "        self.inertia = 0.0\n",
    "        self.centroids = []\n",
    "\n",
    "    # Step 1: Init centroids\n",
    "    def init_centroids(self, X):\n",
    "        n_samples = X.shape[0]\n",
    "        centroid_idxs = np.random.choice(\n",
    "            range(n_samples), size=self.k, replace=False\n",
    "        )  # gives the indexes of the centroid from the datapoints\n",
    "        \"\"\"\n",
    "        If Centroid_idxs = 567, that means the features of X at the row 567 gives the\n",
    "        co-ordinate of the point.\n",
    "        \"\"\"\n",
    "        return X[centroid_idxs]  # returns the centroids's co-ordinates\n",
    "\n",
    "    # Step 2: Assign points to clusters\n",
    "    def assign_cluster(self, X):\n",
    "        n_samples = X.shape[0]\n",
    "        distances = np.empty(shape=(n_samples, self.k))\n",
    "        for i in range(self.k):\n",
    "            distances[:, i] = norm(X - self.centroids[i], axis=1)\n",
    "        return np.argmin(\n",
    "            distances, axis=1\n",
    "        )  # labels - array of indexes of nearest centroid\n",
    "\n",
    "    # Step3: Update Centroids\n",
    "    def update_centroids(self, X, labels):\n",
    "        new_centroids = []\n",
    "        for i in range(self.k):\n",
    "            cluster_data = X[labels == i]\n",
    "            new_centroids.append(np.mean(cluster_data, axis=0))\n",
    "        return np.array(new_centroids)\n",
    "\n",
    "    # Measure K-Means performance\n",
    "    def compute_inertia(self, X, labels):\n",
    "        for i in range(self.k):\n",
    "            cluster_data = X[labels == i]\n",
    "            within_cluster_distance = np.sum(\n",
    "                norm(cluster_data - self.centroids[i], axis=1) ** 2\n",
    "            )\n",
    "            self.inertia += within_cluster_distance\n",
    "        return self.inertia\n",
    "\n",
    "    # Combine all Steps\n",
    "    def fit(self, X):\n",
    "        self.centroids = self.init_centroids(X)\n",
    "        for i in range(self.max_iters):\n",
    "            cluster_labels = self.assign_cluster(X)\n",
    "            prev_centroids = self.centroids\n",
    "            self.centroids = self.update_centroids(X, cluster_labels)\n",
    "\n",
    "            # Check if Converged\n",
    "            displacement = 0\n",
    "            for i in range(self.k):\n",
    "                displacement += norm(prev_centroids[i] - self.centroids[i])\n",
    "\n",
    "            if displacement < self.toleracne:\n",
    "                print(f\"Converged in {i+1} iterations\\n\")\n",
    "                self.compute_inertia(X, cluster_labels)\n",
    "                return self.centroids, cluster_labels, self.inertia\n",
    "\n",
    "        self.compute_inertia(X, cluster_labels)\n",
    "        return self.centroids, cluster_labels, self.inertia"
   ]
  },
  {
   "cell_type": "code",
   "execution_count": null,
   "id": "bbdc04ec",
   "metadata": {},
   "outputs": [],
   "source": [
    "kmeans = KMeans(k=N_CENTERS, tolerance=1e-4, max_iters=50)"
   ]
  },
  {
   "cell_type": "code",
   "execution_count": null,
   "id": "e227300f",
   "metadata": {},
   "outputs": [],
   "source": [
    "final_centroids, final_labels, inertia = kmeans.fit(X_scaled)"
   ]
  },
  {
   "cell_type": "code",
   "execution_count": null,
   "id": "7182c17a",
   "metadata": {},
   "outputs": [],
   "source": [
    "print(final_centroids, inertia)"
   ]
  },
  {
   "cell_type": "code",
   "execution_count": null,
   "id": "511652f6",
   "metadata": {},
   "outputs": [],
   "source": [
    "plot_clusters_with_centers(X_scaled, final_labels, final_centroids, k = N_CENTERS)"
   ]
  },
  {
   "cell_type": "code",
   "execution_count": null,
   "id": "3904ca8a",
   "metadata": {},
   "outputs": [],
   "source": [
    "# Elbow Rule\n",
    "inertia_score = []\n",
    "for kk in range(2, 20):\n",
    "    kmeans_obj = KMeans(k=kk, tolerance=1e-4, max_iters=50)\n",
    "    run_centroids, run_labels, run_inertia = kmeans_obj.fit(X_scaled)\n",
    "    inertia_score.append(run_inertia)"
   ]
  },
  {
   "cell_type": "code",
   "execution_count": null,
   "id": "0f46d695",
   "metadata": {},
   "outputs": [],
   "source": [
    "plt.figure(figsize=(8, 8))\n",
    "plt.scatter(range(2, 20), inertia_score, marker=\"x\", c=\"r\")\n",
    "plt.plot(range(2, 20), inertia_score)\n",
    "plt.xlabel(\"k\")\n",
    "plt.ylabel(\"inertia or WCSS\")"
   ]
  },
  {
   "cell_type": "code",
   "execution_count": null,
   "id": "2760c5bb",
   "metadata": {},
   "outputs": [],
   "source": [
    "# Compare with SK-learn's KMeans\n",
    "from sklearn.cluster import KMeans\n",
    "sk_kmeans = KMeans(n_clusters=N_CENTERS)\n",
    "clusters = sk_kmeans.fit_transform(X_scaled)\n",
    "clusters.shape,sk_kmeans.inertia_     "
   ]
  },
  {
   "cell_type": "code",
   "execution_count": null,
   "id": "13859fef",
   "metadata": {},
   "outputs": [],
   "source": [
    "centers = sk_kmeans.cluster_centers_ \n",
    "plt.figure(figsize=(8,8))\n",
    "plt.scatter(X_scaled[:, 0], X_scaled[:, 1], s=10, c=sk_kmeans.labels_)\n",
    "plt.scatter(centers[:, 0], centers[:, 1], c='r', s=20)"
   ]
  }
 ],
 "metadata": {
  "kernelspec": {
   "display_name": "myenv",
   "language": "python",
   "name": "python3"
  },
  "language_info": {
   "codemirror_mode": {
    "name": "ipython",
    "version": 3
   },
   "file_extension": ".py",
   "mimetype": "text/x-python",
   "name": "python",
   "nbconvert_exporter": "python",
   "pygments_lexer": "ipython3",
   "version": "3.13.3"
  }
 },
 "nbformat": 4,
 "nbformat_minor": 5
}
