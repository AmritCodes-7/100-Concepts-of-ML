{
 "cells": [
  {
   "cell_type": "code",
   "execution_count": null,
   "id": "223b3c5f",
   "metadata": {},
   "outputs": [],
   "source": [
    "from sklearn.cluster import DBSCAN\n",
    "from sklearn.datasets import make_blobs, make_circles\n",
    "import numpy as np\n",
    "import matplotlib.pyplot as plt"
   ]
  },
  {
   "cell_type": "code",
   "execution_count": null,
   "id": "d96bfd7d",
   "metadata": {},
   "outputs": [],
   "source": [
    "X, y = make_blobs(n_sample=400, centers=4, cluster_std=0.5, random_state=50)\n",
    "# Add some noise manually (optional)\n",
    "noise = np.random.uniform(low=-6, high=6, size=(20, 2))\n",
    "X = np.vstack([X, noise])"
   ]
  },
  {
   "cell_type": "code",
   "execution_count": null,
   "id": "a1533c03",
   "metadata": {},
   "outputs": [],
   "source": [
    "# Plot the dataset\n",
    "plt.figure(figsize=(8, 6))\n",
    "plt.scatter(X[:, 0], X[:, 1], s=30, color='red', marker='.')\n",
    "plt.title(\"Synthetic Dataset for DBSCAN\")\n",
    "plt.xlabel(\"Feature 1\")\n",
    "plt.ylabel(\"Feature 2\")\n",
    "plt.grid(True)\n",
    "plt.show()"
   ]
  },
  {
   "cell_type": "code",
   "execution_count": null,
   "id": "f21d5bb1",
   "metadata": {},
   "outputs": [],
   "source": [
    "dbscan = DBSCAN(eps=1, min_samples=5)\n",
    "dbscan.fit(X)\n",
    "dbscan.labels_"
   ]
  },
  {
   "cell_type": "code",
   "execution_count": null,
   "id": "ce415687",
   "metadata": {},
   "outputs": [],
   "source": [
    "X,y = make_circles(n_samples=500, noise=0.05, random_state=45, factor=0.3)"
   ]
  },
  {
   "cell_type": "code",
   "execution_count": null,
   "id": "417c975c",
   "metadata": {},
   "outputs": [],
   "source": [
    "dbscan=DBSCAN(eps = 0.3, min_samples=5)\n",
    "clusters = dbscan.fit_predict(X)"
   ]
  },
  {
   "cell_type": "code",
   "execution_count": null,
   "id": "931eb77e",
   "metadata": {},
   "outputs": [],
   "source": [
    "plt.scatter(X[:,0], X[:, 1], c = clusters, cmap=\"viridis\", marker='.')"
   ]
  }
 ],
 "metadata": {
  "kernelspec": {
   "display_name": "myenv",
   "language": "python",
   "name": "python3"
  },
  "language_info": {
   "codemirror_mode": {
    "name": "ipython",
    "version": 3
   },
   "file_extension": ".py",
   "mimetype": "text/x-python",
   "name": "python",
   "nbconvert_exporter": "python",
   "pygments_lexer": "ipython3",
   "version": "3.13.3"
  }
 },
 "nbformat": 4,
 "nbformat_minor": 5
}
